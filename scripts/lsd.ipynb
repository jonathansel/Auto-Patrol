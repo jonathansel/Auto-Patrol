{
 "cells": [
  {
   "cell_type": "code",
   "execution_count": 1,
   "metadata": {},
   "outputs": [
    {
     "name": "stdout",
     "output_type": "stream",
     "text": [
      "4.9.0\n",
      "LSD is available!\n"
     ]
    }
   ],
   "source": [
    "import cv2\n",
    "print(cv2.__version__)  # Should say 4.2.0\n",
    "try:\n",
    "    lsd = cv2.createLineSegmentDetector(0)\n",
    "    print(\"LSD is available!\")\n",
    "except AttributeError:\n",
    "    print(\"LSD not found in this OpenCV version.\")"
   ]
  },
  {
   "cell_type": "code",
   "execution_count": 2,
   "metadata": {},
   "outputs": [
    {
     "name": "stdout",
     "output_type": "stream",
     "text": [
      "Detected 0 lines: []\n"
     ]
    }
   ],
   "source": [
    "import cv2\n",
    "import numpy as np\n",
    "\n",
    "# Read the image\n",
    "img = cv2.imread(\"warped_image.png\", cv2.IMREAD_GRAYSCALE)\n",
    "if img is None:\n",
    "    raise FileNotFoundError(\"Could not load warped_image.png\")\n",
    "\n",
    "# Threshold if not already binary (optional, skip if your IPM output is binary)\n",
    "_, binary_img = cv2.threshold(img, 128, 255, cv2.THRESH_BINARY)\n",
    "\n",
    "# Create LSD detector\n",
    "lsd = cv2.createLineSegmentDetector(0)  # 0 = no refinement, tweak as needed\n",
    "\n",
    "# Detect lines\n",
    "lines = lsd.detect(binary_img)[0]  # Returns (lines, widths, precisions, nfa), we want lines\n",
    "if lines is None:\n",
    "    print(\"No lines detected.\")\n",
    "    lines = []\n",
    "\n",
    "\n",
    "# Convert to cv::Vec4i-like format (x1, y1, x2, y2)\n",
    "lines_vec4i = []\n",
    "for line in lines:\n",
    "    x1, y1, x2, y2 = map(int, line[0])  # line[0] is [x1, y1, x2, y2]\n",
    "    lines_vec4i.append([x1, y1, x2, y2])\n",
    "\n",
    "# Filter by length (e.g., min_length = 800 pixels)\n",
    "min_length = 800\n",
    "filtered_lines = []\n",
    "for line in lines_vec4i:\n",
    "    length = np.sqrt((line[2] - line[0])**2 + (line[3] - line[1])**2)\n",
    "    if length >= min_length:\n",
    "        filtered_lines.append(line)\n",
    "\n",
    "# Limit to 2 longest lines (like your RANSAC)\n",
    "filtered_lines.sort(key=lambda x: np.sqrt((x[2] - x[0])**2 + (x[3] - x[1])**2), reverse=True)\n",
    "if len(filtered_lines) > 2:\n",
    "    filtered_lines = filtered_lines[:2]\n",
    "\n",
    "# Draw lines for visualization\n",
    "output_img = cv2.cvtColor(binary_img, cv2.COLOR_GRAY2BGR)\n",
    "for line in filtered_lines:\n",
    "    x1, y1, x2, y2 = line\n",
    "    cv2.line(output_img, (x1, y1), (x2, y2), (0, 0, 255), 2)\n",
    "    print(\"wow\")\n",
    "\n",
    "# Save and show result\n",
    "cv2.imwrite(\"lsd_output.png\", output_img)\n",
    "cv2.imshow(\"LSD Lines\", output_img)\n",
    "cv2.waitKey(0)\n",
    "cv2.destroyAllWindows()\n",
    "\n",
    "print(f\"Detected {len(filtered_lines)} lines: {filtered_lines}\")"
   ]
  },
  {
   "cell_type": "code",
   "execution_count": 7,
   "metadata": {},
   "outputs": [
    {
     "name": "stdout",
     "output_type": "stream",
     "text": [
      "Detected 20 lines in 36.54 ms\n",
      "Line 0: (33, 921) -> (59, 1621), Width: 7.40 pixels\n",
      "Line 1: (65, 1003) -> (58, 886), Width: 5.85 pixels\n",
      "Line 2: (60, 1624) -> (79, 2173), Width: 7.50 pixels\n",
      "Line 3: (78, 2174) -> (82, 2308), Width: 5.05 pixels\n",
      "Line 4: (107, 2535) -> (103, 2404), Width: 5.53 pixels\n",
      "Wrote lsd_output.png\n"
     ]
    }
   ],
   "source": [
    "import cv2\n",
    "import time\n",
    "import numpy as np\n",
    "\n",
    "# Load the image\n",
    "img = cv2.imread(\"warped_image.png\", cv2.IMREAD_GRAYSCALE)\n",
    "if img is None:\n",
    "    raise FileNotFoundError(\"Could not load warped_image.png\")\n",
    "\n",
    "# Create LSD detector\n",
    "lsd = cv2.createLineSegmentDetector(0)\n",
    "\n",
    "# Time the detection\n",
    "start_time = time.time()\n",
    "lines, widths, precisions, nfa = lsd.detect(img)  # Unpack all outputs\n",
    "end_time = time.time()\n",
    "\n",
    "# Handle case where no lines are detected\n",
    "if lines is None:\n",
    "    lines = []\n",
    "    widths = []\n",
    "    num_lines = 0\n",
    "else:\n",
    "    num_lines = len(lines)\n",
    "\n",
    "# Print results with widths\n",
    "print(f\"Detected {num_lines} lines in {(end_time - start_time) * 1000:.2f} ms\")\n",
    "for i in range(min(5, num_lines)):\n",
    "    x1, y1, x2, y2 = map(int, lines[i][0])\n",
    "    width = widths[i][0] if widths is not None else 0.0\n",
    "    print(f\"Line {i}: ({x1}, {y1}) -> ({x2}, {y2}), Width: {width:.2f} pixels\")\n",
    "\n",
    "# Draw lines on a color image with unique colors\n",
    "output_img = cv2.cvtColor(img, cv2.COLOR_GRAY2BGR)\n",
    "for i in range(num_lines):\n",
    "    x1, y1, x2, y2 = map(int, lines[i][0])\n",
    "    # Generate a color based on index (cycling through hues)\n",
    "    hue = (i * 137 % 360)  # 137 is a prime number for varied hues\n",
    "    color = tuple(int(c * 255) for c in cv2.cvtColor(\n",
    "        np.array([[[hue, 1.0, 1.0]]], dtype=np.float32), cv2.COLOR_HSV2BGR)[0][0])\n",
    "    cv2.line(output_img, (x1, y1), (x2, y2), color, 2)\n",
    "\n",
    "# Write output image (overwrites existing file)\n",
    "cv2.imwrite(\"lsd_output.png\", output_img)\n",
    "print(\"Wrote lsd_output.png\")"
   ]
  },
  {
   "cell_type": "code",
   "execution_count": null,
   "metadata": {},
   "outputs": [],
   "source": []
  }
 ],
 "metadata": {
  "kernelspec": {
   "display_name": "Python 3",
   "language": "python",
   "name": "python3"
  },
  "language_info": {
   "codemirror_mode": {
    "name": "ipython",
    "version": 3
   },
   "file_extension": ".py",
   "mimetype": "text/x-python",
   "name": "python",
   "nbconvert_exporter": "python",
   "pygments_lexer": "ipython3",
   "version": "3.8.10"
  }
 },
 "nbformat": 4,
 "nbformat_minor": 2
}
